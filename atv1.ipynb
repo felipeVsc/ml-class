{
 "cells": [
  {
   "attachments": {},
   "cell_type": "markdown",
   "metadata": {},
   "source": [
    "# Atividade 01\n",
    "\n",
    "Equipe: ehtudoifelse.\n",
    "\n",
    "\n",
    "Integrantes: Felipe Vasconcelos; Taigo Italo"
   ]
  },
  {
   "cell_type": "code",
   "execution_count": 2,
   "metadata": {},
   "outputs": [],
   "source": [
    "import pandas as pd\n",
    "import numpy as np\n",
    "from sklearn.neighbors import KNeighborsClassifier\n",
    "from sklearn.linear_model import LinearRegression\n",
    "from sklearn.model_selection import cross_val_score\n",
    "import requests"
   ]
  },
  {
   "cell_type": "code",
   "execution_count": null,
   "metadata": {},
   "outputs": [],
   "source": [
    "# Dados\n",
    "\n",
    "data = pd.read_csv('../diabetes_dataset.csv')\n",
    "\n",
    "# Criando X and y par ao algorítmo de aprendizagem de máquina.\\\n",
    "print(' - Criando X e y para o algoritmo de aprendizagem a partir do arquivo diabetes_dataset')\n",
    "# Caso queira modificar as colunas consideradas basta algera o array a seguir.\n",
    "feature_cols = ['Pregnancies', 'Glucose', 'BloodPressure', 'SkinThickness', \n",
    "                'Insulin', 'BMI', 'DiabetesPedigreeFunction', 'Age']\n",
    "X = data[feature_cols]\n",
    "y = data.Outcome"
   ]
  },
  {
   "cell_type": "code",
   "execution_count": 3,
   "metadata": {},
   "outputs": [],
   "source": [
    "def fillna_linear_reg(model, x):\n",
    "    if np.isnan(x['SkinThickness']):\n",
    "        try:\n",
    "            predicted = model.predict([[x['BMI']]])\n",
    "            x['SkinThickness'] = predicted[0]\n",
    "        except: pass\n",
    "    return x\n",
    "\n",
    "def clusteringBloodPressure(x):\n",
    "    if x < 60:\n",
    "        return 0\n",
    "    elif x < 70:\n",
    "        return 1\n",
    "    elif x < 90:\n",
    "        return 2\n",
    "    else:\n",
    "        return 3\n",
    "    \n",
    "def clusteringAge(x):\n",
    "    if x < 25:\n",
    "        return 0\n",
    "    elif x < 40:\n",
    "        return 1 \n",
    "    elif x < 55:\n",
    "        return 2\n",
    "    else:\n",
    "        return 3\n",
    "    \n",
    "def clusteringGlucose(x):\n",
    "    if x < 70:\n",
    "        return 0\n",
    "    elif x < 100:\n",
    "        return 1 \n",
    "    elif x < 126:\n",
    "        return 2\n",
    "    else:\n",
    "        return 3\n",
    "\n",
    "def preprocessing_cluster_step(settings, data, feature_cols):\n",
    "    if(settings['AgeClustering'] and 'Age' in feature_cols):\n",
    "        data['Age'] = data['Age'].apply(lambda x: clusteringAge(x))\n",
    "\n",
    "    if(settings['BloodPressureClustering'] and 'BloodPressure' in feature_cols):\n",
    "        data['BloodPressure'] = data['BloodPressure'].apply(lambda x: clusteringBloodPressure(x))\n",
    "\n",
    "    if(settings['GlucoseClustering'] and 'Glucose' in feature_cols):\n",
    "        data['Glucose'] = data['Glucose'].apply(lambda x: clusteringGlucose(x))\n",
    "\n",
    "    return data\n",
    "\n",
    "\n",
    "def preprocessing_fill_step(settings, data, feature_cols, outcomeCol):\n",
    "    class0, class1 = data[data[outcomeCol] == 0].copy(), data[data[outcomeCol] == 1].copy()\n",
    "\n",
    "    if(settings['SkinThicknessLRFill'] and 'SkinThickness' in feature_cols):\n",
    "        c0lr = class0[['BMI', 'SkinThickness']].dropna()\n",
    "        model0, x0, st0 = LinearRegression(), c0lr['BMI'].to_numpy().reshape(-1, 1), c0lr['SkinThickness'] #['BMI'].to_numpy().reshape(-1, 1)\n",
    "        model0.fit(x0, st0)\n",
    "        for index, row in class0.iterrows():\n",
    "            class0.loc[index,:] = fillna_linear_reg(model0, row)\n",
    "\n",
    "        c1lr = class1[['BMI', 'SkinThickness']].dropna()\n",
    "        model1, x1, st1 = LinearRegression(), c1lr['BMI'].to_numpy().reshape(-1, 1), c1lr['SkinThickness']\n",
    "        model1.fit(x1, st1)\n",
    "        for index, row in class1.iterrows():\n",
    "            class1.loc[index,:] = fillna_linear_reg(model1, row)\n",
    "\n",
    "    if(settings['MedianFill']):\n",
    "        for column in feature_cols:\n",
    "            c0m, c1m = class0[column].median(), class1[column].median()\n",
    "            class0[column].fillna(value=c0m, inplace=True)\n",
    "            class1[column].fillna(value=c1m, inplace=True)\n",
    "\n",
    "    if(settings['MeanFill']):\n",
    "        for column in feature_cols:\n",
    "            c0m, c1m = class0[column].mean(), class1[column].mean()\n",
    "            class0[column].fillna(value=c0m, inplace=True)\n",
    "            class1[column].fillna(value=c1m, inplace=True)\n",
    "    data = pd.concat([class0, class1],axis=0)\n",
    "\n",
    "    return data\n",
    "\n",
    "\n",
    "def preprocessing_train(settings, data, feature_cols, norm_cols, zscore_params = {}, outcomeCol='Outcome', outlierZscore=3):\n",
    "    data = preprocessing_fill_step(settings, data[feature_cols+[outcomeCol]].copy(), feature_cols, outcomeCol)\n",
    "\n",
    "    zscore_params = {}\n",
    "    if(settings['ZScoreNormalization']):\n",
    "        for column in [x for x in norm_cols if x in feature_cols]:\n",
    "            zscore_params[column] = {\n",
    "                \"mean\": data[column].mean(),\n",
    "                \"std\": data[column].std()\n",
    "            }\n",
    "            data[column] = (data[column] - zscore_params[column][\"mean\"]) / zscore_params[column][\"std\"]\n",
    "\n",
    "    data = preprocessing_cluster_step(settings, data, feature_cols)\n",
    "    return data, zscore_params\n",
    "\n",
    "def preprocessing_test(settings, data, feature_cols, norm_cols, zscore_params):\n",
    "    if(settings['ZScoreNormalization']):\n",
    "        for column in [x for x in norm_cols if x in feature_cols]:\n",
    "            data[column] = (data[column] - zscore_params[column][\"mean\"]) / zscore_params[column][\"std\"]\n",
    "            \n",
    "    data = preprocessing_cluster_step(settings, data, feature_cols)\n",
    "    return data"
   ]
  },
  {
   "cell_type": "code",
   "execution_count": 4,
   "metadata": {},
   "outputs": [],
   "source": [
    "data = pd.read_csv('diabetes_dataset.csv')\n",
    "\n",
    "#In order of execution\n",
    "settings = {\n",
    "    \"SkinThicknessLRFill\": True,\n",
    "    \"MedianFill\": True,\n",
    "    \"MeanFill\": False,\n",
    "\n",
    "    \"ZScoreNormalization\": True,\n",
    "    \n",
    "    \"AgeClustering\": False,\n",
    "    \"BloodPressureClustering\": True,\n",
    "    \"GlucoseClustering\": False,\n",
    "}\n",
    "\n",
    "feature_cols = ['BMI', 'Glucose', 'DiabetesPedigreeFunction', 'Age', 'BloodPressure', 'SkinThickness']\n",
    "norm_cols = ['Glucose', 'BloodPressure', 'BMI', 'DiabetesPedigreeFunction', 'SkinThickness', 'Insulin']\n",
    "if(settings[\"GlucoseClustering\"]): norm_cols.remove('Glucose')\n",
    "if(settings[\"BloodPressureClustering\"]): norm_cols.remove('BloodPressure')\n",
    "\n",
    "data, zscore_params = preprocessing_train(settings, data, feature_cols, norm_cols)\n",
    "\n",
    "selected = data[feature_cols+[\"Outcome\"]].copy().dropna()\n",
    "X = selected[feature_cols]\n",
    "y = selected.Outcome"
   ]
  },
  {
   "cell_type": "code",
   "execution_count": 5,
   "metadata": {},
   "outputs": [
    {
     "name": "stdout",
     "output_type": "stream",
     "text": [
      " - Criando modelo preditivo\n",
      "k1 cross validation: 0.841 +/- 0.000, between 0.841 and 0.841\n",
      "k2 cross validation: 0.713 +/- 0.003, between 0.717 and 0.710\n",
      "k3 cross validation: 0.689 +/- 0.035, between 0.738 and 0.663\n",
      "k5 cross validation: 0.690 +/- 0.036, between 0.757 and 0.649\n",
      "k10 cross validation: 0.683 +/- 0.041, between 0.741 and 0.596\n",
      "k20 cross validation: 0.671 +/- 0.074, between 0.793 and 0.517\n"
     ]
    }
   ],
   "source": [
    "# Criando o modelo preditivo para a base trabalhada\n",
    "print(' - Criando modelo preditivo')\n",
    "neigh = KNeighborsClassifier(n_neighbors=3)\n",
    "\n",
    "scores = {f'{n}':cross_val_score(neigh, X, y, cv=n, scoring=\"accuracy\") for n in [2,3,5,10,20]}\n",
    "\n",
    "neigh.fit(X, y)\n",
    "scores['1'] = neigh.score(X, y)\n",
    "\n",
    "for k in sorted(scores.keys(), key=lambda x:int(x)):\n",
    "    print(f'k{k} cross validation: {scores[k].mean():.3f} +/- {scores[k].std():.3f}, between {scores[k].max():.3f} and {scores[k].min():.3f}')\n"
   ]
  },
  {
   "cell_type": "code",
   "execution_count": 7,
   "metadata": {},
   "outputs": [],
   "source": [
    "#realizando previsões com o arquivo de\n",
    "data_app = pd.read_csv('diabetes_app.csv')\n",
    "processed = preprocessing_test(settings, data_app, feature_cols, norm_cols, zscore_params)\n",
    "y_pred = neigh.predict(data_app[feature_cols])"
   ]
  },
  {
   "cell_type": "markdown",
   "metadata": {},
   "source": [
    "#### show decision boundary for data if it is 2D"
   ]
  },
  {
   "cell_type": "code",
   "execution_count": null,
   "metadata": {},
   "outputs": [],
   "source": [
    "if (len(feature_cols) == 2):\n",
    "    import matplotlib.pyplot as plt\n",
    "    from matplotlib.colors import ListedColormap\n",
    "    cmap_light = ListedColormap(['mistyrose', 'lavender'])\n",
    "    cmap_bold = ListedColormap(['red', 'blue'])\n",
    "    cmap_pred = ListedColormap(['deeppink','deepskyblue'])\n",
    "\n",
    "    # Plot the decision boundary. For that, we will assign a color to each\n",
    "    # point in the mesh [x_min, x_max]x[y_min, y_max].\n",
    "    h = 0.05\n",
    "    x_min, x_max = X[feature_cols[0]].min() - 1, X[feature_cols[0]].max() + 1\n",
    "    y_min, y_max = X[feature_cols[1]].min() - 1, X[feature_cols[1]].max() + 1\n",
    "    xx, yy = np.meshgrid(np.arange(x_min, x_max, h), np.arange(y_min, y_max, h))\n",
    "    Z = neigh.predict(np.c_[xx.ravel(), yy.ravel()])\n",
    "\n",
    "    # Put the result into a color plot\n",
    "    Z = Z.reshape(xx.shape)\n",
    "    plt.figure(figsize=(10,10)) \n",
    "    plt.pcolormesh(xx, yy, Z, cmap=cmap_light)\n",
    "    plt.scatter(X[feature_cols[0]], X[feature_cols[1]], c=y, s=5, cmap=cmap_bold)\n",
    "    plt.scatter(processed[feature_cols[0]], processed[feature_cols[1]], s=5, c=y_pred, cmap=cmap_pred)\n",
    "    plt.xlabel(feature_cols[0])\n",
    "    plt.xlim(xx.min(), xx.max())\n",
    "    plt.ylabel(feature_cols[1])\n",
    "    plt.ylim(yy.min(), yy.max())\n",
    "    plt.title(\"classification\")\n",
    "    plt.show()"
   ]
  },
  {
   "cell_type": "markdown",
   "metadata": {},
   "source": [
    "#### send "
   ]
  },
  {
   "cell_type": "code",
   "execution_count": 8,
   "metadata": {},
   "outputs": [
    {
     "data": {
      "text/plain": [
       "array([0, 1, 1, 0, 1, 0, 1, 1, 1, 0, 0, 1, 0, 0, 0, 0, 1, 0, 0, 1, 0, 0,\n",
       "       1, 0, 0, 1, 1, 0, 1, 1, 1, 1, 1, 0, 0, 0, 1, 0, 0, 0, 0, 1, 0, 0,\n",
       "       0, 0, 0, 0, 0, 1, 0, 1, 1, 1, 0, 0, 0, 0, 1, 1, 0, 0, 1, 0, 0, 0,\n",
       "       1, 0, 0, 0, 1, 0, 0, 0, 0, 0, 1, 0, 1, 1, 0, 0, 0, 0, 0, 0, 0, 0,\n",
       "       0, 0, 0, 0, 1, 0, 0, 1, 0, 1, 0, 0, 1, 1, 0, 0, 1, 0, 0, 0, 0, 0,\n",
       "       0, 0, 0, 1, 0, 1, 0, 0, 0, 0, 0, 1, 1, 0, 0, 0, 0, 0, 0, 1, 0, 0,\n",
       "       1, 0, 0, 0, 0, 0, 0, 0, 0, 0, 1, 0, 0, 0, 0, 0, 0, 0, 0, 0, 1, 1,\n",
       "       0, 1, 1, 1, 0, 1, 0, 1, 0, 0, 0, 1, 1, 0, 1, 0, 1, 1, 0, 0, 0, 0,\n",
       "       0, 0, 0, 1, 1, 0, 0, 0, 0, 1, 0, 0, 0, 0, 1, 1, 0, 0, 0, 0],\n",
       "      dtype=int64)"
      ]
     },
     "execution_count": 8,
     "metadata": {},
     "output_type": "execute_result"
    }
   ],
   "source": [
    "y_pred"
   ]
  },
  {
   "cell_type": "code",
   "execution_count": 9,
   "metadata": {},
   "outputs": [
    {
     "name": "stdout",
     "output_type": "stream",
     "text": [
      " - Resposta do servidor:\n",
      " {\"status\":\"success\",\"dev_key\":\"ehtudoifelse\",\"accuracy\":0.6224489795918368,\"old_accuracy\":0.62244897959184} \n",
      "\n"
     ]
    }
   ],
   "source": [
    "URL = \"https://aydanomachado.com/mlclass/01_Preprocessing.php\"\n",
    "DEV_KEY = \"ehtudoifelse\"\n",
    "SEND_IT = True\n",
    "\n",
    "if SEND_IT:\n",
    "    r = requests.post(url = URL, data = {'dev_key':DEV_KEY, 'predictions':pd.Series(y_pred).to_json(orient='values')})\n",
    "    print(\" - Resposta do servidor:\\n\", r.text, \"\\n\")"
   ]
  }
 ],
 "metadata": {
  "kernelspec": {
   "display_name": "base",
   "language": "python",
   "name": "python3"
  },
  "language_info": {
   "codemirror_mode": {
    "name": "ipython",
    "version": 3
   },
   "file_extension": ".py",
   "mimetype": "text/x-python",
   "name": "python",
   "nbconvert_exporter": "python",
   "pygments_lexer": "ipython3",
   "version": "3.10.9"
  },
  "orig_nbformat": 4
 },
 "nbformat": 4,
 "nbformat_minor": 2
}
